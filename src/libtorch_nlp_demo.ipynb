{
 "cells": [
  {
   "cell_type": "markdown",
   "metadata": {},
   "source": [
    "# python dependency\n",
    "- pytorch\n",
    "- torchtext\n",
    "- tensorboard\n",
    "\n",
    "# data dependency\n",
    "- glove 6b\n",
    "- aclImdb"
   ]
  },
  {
   "cell_type": "code",
   "execution_count": 1,
   "metadata": {},
   "outputs": [],
   "source": [
    "import os\n",
    "import time\n",
    "import random\n",
    "import collections\n",
    "import tarfile\n",
    "import torch\n",
    "from torch import nn\n",
    "import torchtext.vocab as Vocab\n",
    "import torch.utils.data as Data\n",
    "from tqdm import tqdm"
   ]
  },
  {
   "cell_type": "code",
   "execution_count": 2,
   "metadata": {},
   "outputs": [],
   "source": [
    "# settings\n",
    "kDevice = \"cpu\"\n",
    "kDataDir = \"data\" # put in the current directory"
   ]
  },
  {
   "cell_type": "code",
   "execution_count": 3,
   "metadata": {},
   "outputs": [],
   "source": [
    "# read data\n",
    "def readImdb(data_dir, part_folder):\n",
    "    text_data_list = []\n",
    "    # pos and neg are sub folders and show the label info\n",
    "    for label in [\"pos\", \"neg\"]:\n",
    "        folder_path = os.path.join(data_dir, \"aclImdb\", part_folder, label)\n",
    "        for file in tqdm(os.listdir(folder_path)):\n",
    "            with open(os.path.join(folder_path, file), \"rb\") as f:\n",
    "                movie_review = f.read().decode(\"utf-8\").replace('\\n', '').lower()\n",
    "                text_data_list.append([movie_review, 1 if label == \"pos\" else 0])\n",
    "    random.shuffle(text_data_list)\n",
    "    return text_data_list"
   ]
  },
  {
   "cell_type": "code",
   "execution_count": 4,
   "metadata": {
    "scrolled": true
   },
   "outputs": [
    {
     "name": "stderr",
     "output_type": "stream",
     "text": [
      "100%|█████████████████████████████████| 12500/12500 [00:01<00:00, 10397.65it/s]\n",
      "100%|█████████████████████████████████| 12500/12500 [00:01<00:00, 10448.58it/s]\n",
      "100%|█████████████████████████████████| 12500/12500 [00:01<00:00, 11034.06it/s]\n",
      "100%|█████████████████████████████████| 12500/12500 [00:01<00:00, 11091.43it/s]\n"
     ]
    }
   ],
   "source": [
    "train_data, test_data = readImdb(kDataDir, \"train\"), readImdb(kDataDir, \"test\")"
   ]
  },
  {
   "cell_type": "code",
   "execution_count": 5,
   "metadata": {},
   "outputs": [],
   "source": [
    "# pre process data\n",
    "def tokenizer(text):\n",
    "    return [tok.lower() for tok in text.split(' ')]\n",
    "\n",
    "def getTokenizedImdb(data):\n",
    "    # data: list of [string, int]\n",
    "    return [tokenizer(review) for review, _ in data]\n",
    "\n",
    "def getImdbVocab(data):\n",
    "    tokenized_data = getTokenizedImdb(data)\n",
    "    counter = collections.Counter([tk for st in tokenized_data for tk in st])\n",
    "    return Vocab.Vocab(counter, min_freq=5) # filter out the words count less than 5"
   ]
  },
  {
   "cell_type": "code",
   "execution_count": 6,
   "metadata": {},
   "outputs": [],
   "source": [
    "vocab = getImdbVocab(train_data)"
   ]
  },
  {
   "cell_type": "code",
   "execution_count": 7,
   "metadata": {},
   "outputs": [],
   "source": [
    "def pad(x, max_len):\n",
    "    return x[:max_len] if len(x) > max_len else x + [0] * (max_len - len(x))"
   ]
  },
  {
   "cell_type": "code",
   "execution_count": 8,
   "metadata": {},
   "outputs": [],
   "source": [
    "def preprocessImdb(data, vocab):\n",
    "    max_len = 500 # pading to 500 words for each review\n",
    "    tokenized_data = getTokenizedImdb(data)\n",
    "    features = torch.tensor([pad([vocab.stoi[word] for word in words], max_len) for words in tokenized_data])\n",
    "    labels = torch.tensor([score for _, score in data])\n",
    "    return features, labels"
   ]
  },
  {
   "cell_type": "code",
   "execution_count": 20,
   "metadata": {},
   "outputs": [],
   "source": [
    "batch_size = 64\n",
    "train_set = Data.TensorDataset(*preprocessImdb(train_data, vocab))\n",
    "test_set = Data.TensorDataset(*preprocessImdb(test_data, vocab))\n",
    "train_iter = Data.DataLoader(train_set, batch_size, shuffle=True)\n",
    "test_iter = Data.DataLoader(test_set, batch_size)"
   ]
  },
  {
   "cell_type": "code",
   "execution_count": 21,
   "metadata": {},
   "outputs": [],
   "source": [
    "class TextRNN(nn.Module):\n",
    "    def __init__(self, vocab_len, embed_size, num_hiddens, num_layers):\n",
    "        super(TextRNN, self).__init__()\n",
    "        self.embedding = nn.Embedding(vocab_len, embed_size)\n",
    "        \n",
    "        # bidrectional lstm\n",
    "        self.encoder = nn.LSTM(input_size=embed_size,\n",
    "                              hidden_size=num_hiddens,\n",
    "                              num_layers=num_layers,\n",
    "                              bidirectional=True)\n",
    "        # full connect layer\n",
    "        self.decoder = nn.Linear(4 * num_hiddens, 2)\n",
    "        \n",
    "    def forward(self, inputs):\n",
    "        # inputs shape: (batch_size, words_len)\n",
    "        # inverse inputs and fetch the attributes, outputs shape: (words_len, batch_size, word_vec_dim)\n",
    "        embeddings = self.embedding(inputs.permute(1, 0))\n",
    "        outputs, _ = self.encoder(embeddings)\n",
    "        encoding = torch.cat((outputs[0], outputs[-1]), -1)\n",
    "        outs = self.decoder(encoding)\n",
    "        return outs"
   ]
  },
  {
   "cell_type": "code",
   "execution_count": 22,
   "metadata": {},
   "outputs": [],
   "source": [
    "# build a 2 hidden layer bidirectional nural network\n",
    "embed_size, num_hiddens, num_layers = 100, 100, 2\n",
    "net = TextRNN(len(vocab), embed_size, num_hiddens, num_layers) # make sure the model args are convienient for C++"
   ]
  },
  {
   "cell_type": "code",
   "execution_count": 23,
   "metadata": {},
   "outputs": [],
   "source": [
    "# download and cache larget scale pretrained vocab from torchtext\n",
    "# website link: https://nlp.stanford.edu/projects/glove\n",
    "# domestic link: https://sunyanhust.github.io/post/nlp-chang-yong-mo-xing-he-shu-ju-ji-gao-su-xia-zai/\n",
    "# you can manually down load the glove.6B.100d.zip, rename as glove.6B.zip and put in the cache dir\n",
    "glove_vocab = Vocab.GloVe(name='6B', dim=100, cache=os.path.join(kDataDir, \"glove\"))"
   ]
  },
  {
   "cell_type": "code",
   "execution_count": 24,
   "metadata": {},
   "outputs": [],
   "source": [
    "def loadPretrainedEmbedding(words, pretrained_vocab):\n",
    "    embed = torch.zeros(len(words), pretrained_vocab.vectors[0].shape[0])\n",
    "    oov_count = 0 # out of vocabulary\n",
    "    for i, word in enumerate(words):\n",
    "        try:\n",
    "            idx = pretrained_vocab.stoi[word]\n",
    "            embed[i, :] = pretrained_vocab.vectors[idx]\n",
    "        except KeyError:\n",
    "            oov_count += 1 # ?\n",
    "    \n",
    "    if oov_count > 0:\n",
    "        print (\"there are %d oov words\" % oov_count)\n",
    "        \n",
    "    return embed"
   ]
  },
  {
   "cell_type": "code",
   "execution_count": 25,
   "metadata": {},
   "outputs": [
    {
     "name": "stdout",
     "output_type": "stream",
     "text": [
      "there are 21202 oov words\n"
     ]
    }
   ],
   "source": [
    "net.embedding.weight.data.copy_(loadPretrainedEmbedding(vocab.itos, glove_vocab))\n",
    "net.embedding.weight.requires_grad = False # pretrained data no need to udpate"
   ]
  },
  {
   "cell_type": "code",
   "execution_count": 26,
   "metadata": {},
   "outputs": [],
   "source": [
    "# train\n",
    "def evaluate_accuracy(data_iter, net, device=None):\n",
    "    if device is None:\n",
    "        # if not specified device, use net device\n",
    "        device = list(net.parameters())[0].device \n",
    "    acc_sum, n = 0.0, 0\n",
    "    with torch.no_grad():\n",
    "        for X, y in data_iter:\n",
    "            net.eval() # eval mode will close dropout\n",
    "            acc_sum += (net(X.to(device)).argmax(dim=1) == y.to(device)).float().sum().cpu().item()\n",
    "            net.train() # back to train mode\n",
    "            n += y.shape[0]\n",
    "    return acc_sum / n\n",
    "\n",
    "def train(net, train_iter, test_iter, batch_size, loss, optimizer, device, num_epochs):\n",
    "    net = net.to(device)\n",
    "    print(\"training on \", device)\n",
    "    for epoch in range(num_epochs):\n",
    "        train_l_sum, train_acc_sum, n, batch_count, start = 0.0, 0.0, 0, 0, time.time()\n",
    "        for X, y in train_iter:\n",
    "            X = X.to(device)\n",
    "            y = y.to(device)\n",
    "            y_hat = net(X)\n",
    "            l = loss(y_hat, y)\n",
    "            optimizer.zero_grad()\n",
    "            l.backward()\n",
    "            optimizer.step()\n",
    "            train_l_sum += l.cpu().item()\n",
    "            train_acc_sum += (y_hat.argmax(dim=1) == y).sum().cpu().item()\n",
    "            n += y.shape[0]\n",
    "            batch_count += 1\n",
    "            \n",
    "            print (\"train iter batch_count\", batch_count)\n",
    "        test_acc = evaluate_accuracy(test_iter, net)\n",
    "        print('epoch %d, loss %.4f, train acc %.3f, test acc %.3f, time %.1f sec'\n",
    "              % (epoch + 1, train_l_sum / batch_count, train_acc_sum / n, test_acc, time.time() - start))"
   ]
  },
  {
   "cell_type": "code",
   "execution_count": null,
   "metadata": {},
   "outputs": [],
   "source": [
    "lr = 0.01\n",
    "num_epochs = 5\n",
    "\n",
    "optimizer = torch.optim.Adam(filter(lambda p: p.requires_grad, net.parameters()), lr=lr)\n",
    "loss = nn.CrossEntropyLoss()\n",
    "train(net, train_iter, test_iter, batch_size, loss, optimizer, kDevice, num_epochs) # the training may take a long time in cpu"
   ]
  },
  {
   "cell_type": "code",
   "execution_count": 29,
   "metadata": {},
   "outputs": [],
   "source": [
    "# predict\n",
    "def predict(net, vocab, sentence):\n",
    "    device = list(net.parameters())[0].device\n",
    "    words = tokenizer(sentence)\n",
    "    sentence_tensor = torch.tensor([vocab.stoi[word] for word in words], device=device)\n",
    "    label = torch.argmax(net(sentence_tensor.view((1, -1))), dim=1)\n",
    "    return \"positive\" if label.item() == 1 else \"negative\""
   ]
  },
  {
   "cell_type": "code",
   "execution_count": null,
   "metadata": {},
   "outputs": [],
   "source": []
  },
  {
   "cell_type": "code",
   "execution_count": 39,
   "metadata": {},
   "outputs": [
    {
     "name": "stdout",
     "output_type": "stream",
     "text": [
      "input: tensor([[   9,  223,    2,   20,  232,    5,   88,    4,    6,   57, 1743]])\n",
      "positive\n"
     ]
    }
   ],
   "source": [
    "sentence1 = \"I feel the movie kind of great and to my taste\"\n",
    "sentence_tensor1 = torch.tensor([vocab.stoi[word] for word in tokenizer(sentence1)], device=list(net.parameters())[0].device).view(1, -1) # display the input tensor for C++ use\n",
    "print (\"input:\", sentence_tensor1)\n",
    "\n",
    "res = predict(net, vocab, sentence1)\n",
    "print (res)"
   ]
  },
  {
   "cell_type": "code",
   "execution_count": 41,
   "metadata": {},
   "outputs": [
    {
     "name": "stdout",
     "output_type": "stream",
     "text": [
      "input: tensor([[  2,  20,  41,  97, 802]])\n",
      "positive\n"
     ]
    }
   ],
   "source": [
    "sentence2 = \"the movie has bad experience\"\n",
    "sentence_tensor2 = torch.tensor([vocab.stoi[word] for word in tokenizer(sentence2)], device=list(net.parameters())[0].device).view(1, -1) # display the input tensor for C++ use\n",
    "print (\"input:\", sentence_tensor2)\n",
    "\n",
    "res = predict(net, vocab, sentence2)\n",
    "print (res)"
   ]
  },
  {
   "cell_type": "code",
   "execution_count": 45,
   "metadata": {},
   "outputs": [],
   "source": [
    "# export model\n",
    "example_sentence = \"funny movie and make me exciting\"\n",
    "example_sentence_tensor = torch.tensor([vocab.stoi[word] for word in tokenizer(sentence2)], device=list(net.parameters())[0].device).view(1, -1)\n",
    "traced_script_module = torch.jit.trace(net, example_sentence_tensor)\n",
    "traced_script_module.save(\"text_rnn.pt\")"
   ]
  },
  {
   "cell_type": "code",
   "execution_count": 44,
   "metadata": {},
   "outputs": [
    {
     "data": {
      "text/plain": [
       "'positive'"
      ]
     },
     "execution_count": 44,
     "metadata": {},
     "output_type": "execute_result"
    }
   ],
   "source": [
    "predict(traced_script_module, vocab, sentence1)"
   ]
  },
  {
   "cell_type": "code",
   "execution_count": null,
   "metadata": {},
   "outputs": [],
   "source": []
  },
  {
   "cell_type": "code",
   "execution_count": null,
   "metadata": {},
   "outputs": [],
   "source": []
  },
  {
   "cell_type": "code",
   "execution_count": null,
   "metadata": {},
   "outputs": [],
   "source": []
  }
 ],
 "metadata": {
  "kernelspec": {
   "display_name": "Python 3",
   "language": "python",
   "name": "python3"
  },
  "language_info": {
   "codemirror_mode": {
    "name": "ipython",
    "version": 3
   },
   "file_extension": ".py",
   "mimetype": "text/x-python",
   "name": "python",
   "nbconvert_exporter": "python",
   "pygments_lexer": "ipython3",
   "version": "3.7.4"
  }
 },
 "nbformat": 4,
 "nbformat_minor": 4
}
